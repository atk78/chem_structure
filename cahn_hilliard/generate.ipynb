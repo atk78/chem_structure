{
 "cells": [
  {
   "cell_type": "code",
   "execution_count": 5,
   "metadata": {},
   "outputs": [
    {
     "name": "stderr",
     "output_type": "stream",
     "text": [
      "100%|██████████| 10/10 [00:03<00:00,  3.23it/s]\n"
     ]
    }
   ],
   "source": [
    "from src.cahn_hilliard_torch import CahnHilliard\n",
    "\n",
    "\n",
    "CH = CahnHilliard(\n",
    "    c0=0.5,\n",
    "    M=1.0,\n",
    "    kappa=1.0,\n",
    "    W=2.0,\n",
    "    Nxy=128,\n",
    "    Nz=1,\n",
    "    n_steps=10000,\n",
    "    save_per_steps=1000,\n",
    "    output_dir=\"output\",\n",
    "    # device=\"cuda\",\n",
    ")\n",
    "CH.compute_c()"
   ]
  }
 ],
 "metadata": {
  "kernelspec": {
   "display_name": ".venv",
   "language": "python",
   "name": "python3"
  },
  "language_info": {
   "codemirror_mode": {
    "name": "ipython",
    "version": 3
   },
   "file_extension": ".py",
   "mimetype": "text/x-python",
   "name": "python",
   "nbconvert_exporter": "python",
   "pygments_lexer": "ipython3",
   "version": "3.11.9"
  }
 },
 "nbformat": 4,
 "nbformat_minor": 2
}
