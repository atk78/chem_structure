{
 "cells": [
  {
   "cell_type": "code",
   "execution_count": null,
   "metadata": {},
   "outputs": [
    {
     "name": "stderr",
     "output_type": "stream",
     "text": [
      "100%|██████████| 10/10 [00:30<00:00,  3.09s/it]\n"
     ]
    }
   ],
   "source": [
    "from src.cahn_hilliard import CahnHilliard\n",
    "import torch\n",
    "\n",
    "\n",
    "CH = CahnHilliard(\n",
    "    c0=0.5,\n",
    "    M=0.1,\n",
    "    kappa=1.0,\n",
    "    W=2.0,\n",
    "    Nxy=128,\n",
    "    Nz=1,\n",
    "    n_steps=10000,\n",
    "    save_per_steps=1000,\n",
    "    gif_interval=50,\n",
    "    output_dir=\"output\",\n",
    "    device=\"cuda\" if torch.cuda.is_available() else \"cpu\"\n",
    "    # device=\"numpy\"\n",
    ")\n",
    "CH.compute_c()"
   ]
  },
  {
   "cell_type": "code",
   "execution_count": null,
   "metadata": {},
   "outputs": [],
   "source": []
  }
 ],
 "metadata": {
  "kernelspec": {
   "display_name": ".venv",
   "language": "python",
   "name": "python3"
  },
  "language_info": {
   "codemirror_mode": {
    "name": "ipython",
    "version": 3
   },
   "file_extension": ".py",
   "mimetype": "text/x-python",
   "name": "python",
   "nbconvert_exporter": "python",
   "pygments_lexer": "ipython3",
   "version": "3.11.9"
  }
 },
 "nbformat": 4,
 "nbformat_minor": 2
}
