{
 "cells": [
  {
   "cell_type": "code",
   "execution_count": 1,
   "metadata": {},
   "outputs": [
    {
     "name": "stderr",
     "output_type": "stream",
     "text": [
      "100%|██████████| 15000/15000 [00:43<00:00, 342.09it/s]\n"
     ]
    }
   ],
   "source": [
    "from src.generator.cahn_hilliard import CahnHilliard, generate_init_c\n",
    "\n",
    "\n",
    "\n",
    "c0 = generate_init_c(\n",
    "    porosity=0.5,\n",
    "    Nx=200,\n",
    "    Ny=200,\n",
    "    Nz=1,\n",
    "    noise=0.05\n",
    ")\n",
    "\n",
    "ch = CahnHilliard(\n",
    "    M=2,\n",
    "    kappa=2.0,\n",
    "    W=1.0,\n",
    "    dt=0.05,\n",
    "    dx=1.0,\n",
    "    output_dir=\"test\",\n",
    "    device=\"cuda\",\n",
    "    random_seed=42\n",
    ")\n",
    "\n",
    "ch.calc_time_evolution(\n",
    "    c0,\n",
    "    n_step=15000,\n",
    "    output_step=1000,\n",
    "    fps=100,\n",
    ")"
   ]
  },
  {
   "cell_type": "code",
   "execution_count": null,
   "metadata": {},
   "outputs": [],
   "source": []
  }
 ],
 "metadata": {
  "kernelspec": {
   "display_name": ".venv",
   "language": "python",
   "name": "python3"
  },
  "language_info": {
   "codemirror_mode": {
    "name": "ipython",
    "version": 3
   },
   "file_extension": ".py",
   "mimetype": "text/x-python",
   "name": "python",
   "nbconvert_exporter": "python",
   "pygments_lexer": "ipython3",
   "version": "3.11.9"
  }
 },
 "nbformat": 4,
 "nbformat_minor": 2
}
